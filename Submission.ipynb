{
 "cells": [
  {
   "cell_type": "markdown",
   "id": "7926eaf4",
   "metadata": {},
   "source": [
    "# Final Submission AI Fluency Competition"
   ]
  },
  {
   "cell_type": "markdown",
   "id": "1ef2e96e",
   "metadata": {},
   "source": [
    "#### Code will take ~20 minutes to execute"
   ]
  },
  {
   "cell_type": "markdown",
   "id": "6faa56d5",
   "metadata": {},
   "source": [
    "#### importing relavant libraries"
   ]
  },
  {
   "cell_type": "code",
   "execution_count": 1,
   "id": "110107b9",
   "metadata": {},
   "outputs": [],
   "source": [
    "import pandas as pd\n",
    "import numpy as np\n",
    "from sklearn.metrics import mean_absolute_error\n",
    "from tensorflow import keras\n",
    "from keras.layers import Activation, Dense, Dropout, LSTM\n",
    "from keras.models import Sequential\n",
    "from sklearn.preprocessing import MinMaxScaler\n",
    "from sklearn.preprocessing import StandardScaler\n",
    "from tensorflow.keras.layers import LSTM\n",
    "from sklearn.model_selection import train_test_split"
   ]
  },
  {
   "cell_type": "markdown",
   "id": "922298a3",
   "metadata": {},
   "source": [
    "#### please paste the training and testing set link from your system to properly execute the code"
   ]
  },
  {
   "cell_type": "code",
   "execution_count": 2,
   "id": "bb930e76",
   "metadata": {},
   "outputs": [],
   "source": [
    "Training_link = r\"C:\\Users\\sagprasad\\Desktop\\AI Forum data\\AI Fluency - Competition Dataset\\AI Fluency - Training Data.csv\"\n",
    "Testing_link = r\"C:\\Users\\sagprasad\\Desktop\\AI Forum data\\AI Fluency - Competition Dataset\\AI Fluency - Testing Data.csv\""
   ]
  },
  {
   "cell_type": "markdown",
   "id": "bb28e529",
   "metadata": {},
   "source": [
    "#### taking only relvant fields to fetch training data"
   ]
  },
  {
   "cell_type": "code",
   "execution_count": 3,
   "id": "1de76e1a",
   "metadata": {},
   "outputs": [],
   "source": [
    "fields = ['Asset_ID','Count','Open','High','Low','Close','Volume','VWAP']\n",
    "data = pd.read_csv(Training_link,usecols = fields)"
   ]
  },
  {
   "cell_type": "markdown",
   "id": "eb8631c7",
   "metadata": {},
   "source": [
    "#### scaling the data into (0,1) range"
   ]
  },
  {
   "cell_type": "code",
   "execution_count": 4,
   "id": "61beeb19",
   "metadata": {},
   "outputs": [
    {
     "data": {
      "text/plain": [
       "array([[0.00000000e+00, 2.36426231e-03, 5.70667051e-01, ...,\n",
       "        5.71244877e-01, 4.15265969e-08, 5.70087235e-01],\n",
       "       [6.25000000e-01, 1.78356630e-03, 3.04530806e-02, ...,\n",
       "        3.04593958e-02, 4.42231605e-07, 3.04621628e-02],\n",
       "       [1.00000000e+00, 1.72134887e-03, 9.29424984e-03, ...,\n",
       "        9.28850985e-03, 5.42143742e-07, 9.28482239e-03],\n",
       "       ...,\n",
       "       [3.75000000e-01, 1.39470737e-02, 1.58653479e-05, ...,\n",
       "        1.58374137e-05, 4.03590131e-03, 1.58438051e-05],\n",
       "       [3.75000000e-01, 1.65809449e-02, 1.58344638e-05, ...,\n",
       "        1.58110378e-05, 4.39789945e-03, 1.58245413e-05],\n",
       "       [3.75000000e-01, 1.04317890e-02, 1.58080173e-05, ...,\n",
       "        1.58189087e-05, 2.99152054e-03, 1.58088293e-05]])"
      ]
     },
     "execution_count": 4,
     "metadata": {},
     "output_type": "execute_result"
    }
   ],
   "source": [
    "scaler = MinMaxScaler(feature_range=(0,1))\n",
    "scaled_data = scaler.fit_transform(data)\n",
    "scaled_data"
   ]
  },
  {
   "cell_type": "code",
   "execution_count": 5,
   "id": "0882a5af",
   "metadata": {},
   "outputs": [
    {
     "data": {
      "text/plain": [
       "array([[0.00000000e+00, 2.36426231e-03, 5.70667051e-01, ...,\n",
       "        5.71244877e-01, 4.15265969e-08, 5.70087235e-01],\n",
       "       [6.25000000e-01, 1.78356630e-03, 3.04530806e-02, ...,\n",
       "        3.04593958e-02, 4.42231605e-07, 3.04621628e-02],\n",
       "       [1.00000000e+00, 1.72134887e-03, 9.29424984e-03, ...,\n",
       "        9.28850985e-03, 5.42143742e-07, 9.28482239e-03],\n",
       "       ...,\n",
       "       [3.75000000e-01, 1.39470737e-02, 1.58653479e-05, ...,\n",
       "        1.58374137e-05, 4.03590131e-03, 1.58438051e-05],\n",
       "       [3.75000000e-01, 1.65809449e-02, 1.58344638e-05, ...,\n",
       "        1.58110378e-05, 4.39789945e-03, 1.58245413e-05],\n",
       "       [3.75000000e-01, 1.04317890e-02, 1.58080173e-05, ...,\n",
       "        1.58189087e-05, 2.99152054e-03, 1.58088293e-05]])"
      ]
     },
     "execution_count": 5,
     "metadata": {},
     "output_type": "execute_result"
    }
   ],
   "source": [
    "x_train = np.array(scaled_data)\n",
    "x_train"
   ]
  },
  {
   "cell_type": "markdown",
   "id": "062cbe14",
   "metadata": {},
   "source": [
    "#### defining LSTM model with 5 layers and 50 units having 0.5 dropout at each level"
   ]
  },
  {
   "cell_type": "code",
   "execution_count": 6,
   "id": "8b2265a0",
   "metadata": {},
   "outputs": [],
   "source": [
    "model = Sequential()\n",
    "model.add(LSTM(units=50, return_sequences = True, input_shape=(x_train.shape[1],1)))\n",
    "model.add(Dropout(0.5))\n",
    "model.add(LSTM(units=50, return_sequences = True))\n",
    "model.add(Dropout(0.5))\n",
    "model.add(LSTM(units=50, return_sequences = True))\n",
    "model.add(Dropout(0.5))\n",
    "model.add(LSTM(units=50, return_sequences = True))\n",
    "model.add(Dropout(0.5))\n",
    "model.add(LSTM(units=50))\n",
    "model.add(Dropout(0.5))\n",
    "model.add(Dense(1))"
   ]
  },
  {
   "cell_type": "markdown",
   "id": "2387de1a",
   "metadata": {},
   "source": [
    "#### Taking target field for model training"
   ]
  },
  {
   "cell_type": "code",
   "execution_count": 7,
   "id": "835d0de5",
   "metadata": {},
   "outputs": [
    {
     "data": {
      "text/plain": [
       "array([[0.41000945],\n",
       "       [0.42690928],\n",
       "       [0.41834679],\n",
       "       ...,\n",
       "       [0.4307308 ],\n",
       "       [0.42978156],\n",
       "       [0.42863044]])"
      ]
     },
     "execution_count": 7,
     "metadata": {},
     "output_type": "execute_result"
    }
   ],
   "source": [
    "fields = ['Target']\n",
    "data = pd.read_csv(Training_link,usecols = fields)\n",
    "scaler = MinMaxScaler(feature_range=(0,1))\n",
    "scaled_data = scaler.fit_transform(data)\n",
    "y_train = np.array(scaled_data)\n",
    "y_train"
   ]
  },
  {
   "cell_type": "code",
   "execution_count": 8,
   "id": "a064832b",
   "metadata": {},
   "outputs": [],
   "source": [
    "np.set_printoptions(precision=17)"
   ]
  },
  {
   "cell_type": "markdown",
   "id": "0e53fcf5",
   "metadata": {},
   "source": [
    "#### Training model 1 time(epoch =1 ) based on x_train and y_train with batch size of 4032"
   ]
  },
  {
   "cell_type": "code",
   "execution_count": 9,
   "id": "a6c5b090",
   "metadata": {},
   "outputs": [
    {
     "name": "stdout",
     "output_type": "stream",
     "text": [
      "1365/1365 [==============================] - 730s 527ms/step - loss: 0.0034\n"
     ]
    },
    {
     "data": {
      "text/plain": [
       "<keras.callbacks.History at 0x1efd068a640>"
      ]
     },
     "execution_count": 9,
     "metadata": {},
     "output_type": "execute_result"
    }
   ],
   "source": [
    "model.compile(optimizer='adam', loss='mean_squared_error')\n",
    "model.fit(x_train,y_train,epochs=1,batch_size=4032)"
   ]
  },
  {
   "cell_type": "markdown",
   "id": "c45154fd",
   "metadata": {},
   "source": [
    "#### Taking test data based on relevant fields in output_data"
   ]
  },
  {
   "cell_type": "code",
   "execution_count": 10,
   "id": "f32de399",
   "metadata": {},
   "outputs": [],
   "source": [
    "fields = ['Asset_ID','Count','Open','High','Low','Close','Volume','VWAP']\n",
    "output_data = pd.read_csv(Testing_link, usecols = fields)"
   ]
  },
  {
   "cell_type": "code",
   "execution_count": 11,
   "id": "d68121f2",
   "metadata": {},
   "outputs": [
    {
     "data": {
      "text/plain": [
       "(1375849, 8, 1)"
      ]
     },
     "execution_count": 11,
     "metadata": {},
     "output_type": "execute_result"
    }
   ],
   "source": [
    "scaler = MinMaxScaler(feature_range=(0,1))\n",
    "scaled_data = scaler.fit_transform(output_data)\n",
    "output_data = np.array(scaled_data)\n",
    "output_data= np.reshape(output_data,(output_data.shape[0],output_data.shape[1],1))\n",
    "output_data.shape"
   ]
  },
  {
   "cell_type": "markdown",
   "id": "94cb1ea4",
   "metadata": {},
   "source": [
    "#### Predicting on output_data"
   ]
  },
  {
   "cell_type": "code",
   "execution_count": 12,
   "id": "263d1e3e",
   "metadata": {},
   "outputs": [
    {
     "name": "stdout",
     "output_type": "stream",
     "text": [
      "42996/42996 [==============================] - 312s 7ms/step\n"
     ]
    },
    {
     "data": {
      "text/plain": [
       "array([[0.4312455 ],\n",
       "       [0.43124843],\n",
       "       [0.43124765],\n",
       "       ...,\n",
       "       [0.43097526],\n",
       "       [0.4311539 ],\n",
       "       [0.43126163]], dtype=float32)"
      ]
     },
     "execution_count": 12,
     "metadata": {},
     "output_type": "execute_result"
    }
   ],
   "source": [
    "output = model.predict(output_data)\n",
    "output"
   ]
  },
  {
   "cell_type": "code",
   "execution_count": 13,
   "id": "bb6923bd",
   "metadata": {},
   "outputs": [],
   "source": [
    "scaler = MinMaxScaler(feature_range=(0,1))\n",
    "scaled_data = scaler.fit_transform(data)"
   ]
  },
  {
   "cell_type": "markdown",
   "id": "e328d09b",
   "metadata": {},
   "source": [
    "#### Inverse transforming the result"
   ]
  },
  {
   "cell_type": "code",
   "execution_count": 14,
   "id": "28d885dd",
   "metadata": {},
   "outputs": [
    {
     "data": {
      "text/plain": [
       "array([[-0.0022851995],\n",
       "       [-0.0022835   ],\n",
       "       [-0.0022839508],\n",
       "       ...,\n",
       "       [-0.0024424663],\n",
       "       [-0.002338512 ],\n",
       "       [-0.0022758169]], dtype=float32)"
      ]
     },
     "execution_count": 14,
     "metadata": {},
     "output_type": "execute_result"
    }
   ],
   "source": [
    "new_output = scaler.inverse_transform(output)\n",
    "new_output"
   ]
  },
  {
   "cell_type": "markdown",
   "id": "457aa5e9",
   "metadata": {},
   "source": [
    "#### Converting result into pandas data frame"
   ]
  },
  {
   "cell_type": "code",
   "execution_count": 15,
   "id": "c832a871",
   "metadata": {},
   "outputs": [
    {
     "data": {
      "text/html": [
       "<div>\n",
       "<style scoped>\n",
       "    .dataframe tbody tr th:only-of-type {\n",
       "        vertical-align: middle;\n",
       "    }\n",
       "\n",
       "    .dataframe tbody tr th {\n",
       "        vertical-align: top;\n",
       "    }\n",
       "\n",
       "    .dataframe thead th {\n",
       "        text-align: right;\n",
       "    }\n",
       "</style>\n",
       "<table border=\"1\" class=\"dataframe\">\n",
       "  <thead>\n",
       "    <tr style=\"text-align: right;\">\n",
       "      <th></th>\n",
       "      <th>0</th>\n",
       "    </tr>\n",
       "  </thead>\n",
       "  <tbody>\n",
       "    <tr>\n",
       "      <th>0</th>\n",
       "      <td>-0.002285</td>\n",
       "    </tr>\n",
       "    <tr>\n",
       "      <th>1</th>\n",
       "      <td>-0.002284</td>\n",
       "    </tr>\n",
       "    <tr>\n",
       "      <th>2</th>\n",
       "      <td>-0.002284</td>\n",
       "    </tr>\n",
       "    <tr>\n",
       "      <th>3</th>\n",
       "      <td>-0.002284</td>\n",
       "    </tr>\n",
       "    <tr>\n",
       "      <th>4</th>\n",
       "      <td>-0.002284</td>\n",
       "    </tr>\n",
       "    <tr>\n",
       "      <th>...</th>\n",
       "      <td>...</td>\n",
       "    </tr>\n",
       "    <tr>\n",
       "      <th>1375844</th>\n",
       "      <td>-0.002276</td>\n",
       "    </tr>\n",
       "    <tr>\n",
       "      <th>1375845</th>\n",
       "      <td>-0.002088</td>\n",
       "    </tr>\n",
       "    <tr>\n",
       "      <th>1375846</th>\n",
       "      <td>-0.002442</td>\n",
       "    </tr>\n",
       "    <tr>\n",
       "      <th>1375847</th>\n",
       "      <td>-0.002339</td>\n",
       "    </tr>\n",
       "    <tr>\n",
       "      <th>1375848</th>\n",
       "      <td>-0.002276</td>\n",
       "    </tr>\n",
       "  </tbody>\n",
       "</table>\n",
       "<p>1375849 rows × 1 columns</p>\n",
       "</div>"
      ],
      "text/plain": [
       "                0\n",
       "0       -0.002285\n",
       "1       -0.002284\n",
       "2       -0.002284\n",
       "3       -0.002284\n",
       "4       -0.002284\n",
       "...           ...\n",
       "1375844 -0.002276\n",
       "1375845 -0.002088\n",
       "1375846 -0.002442\n",
       "1375847 -0.002339\n",
       "1375848 -0.002276\n",
       "\n",
       "[1375849 rows x 1 columns]"
      ]
     },
     "execution_count": 15,
     "metadata": {},
     "output_type": "execute_result"
    }
   ],
   "source": [
    "op = pd.DataFrame(new_output)\n",
    "op"
   ]
  },
  {
   "cell_type": "markdown",
   "id": "913cfe55",
   "metadata": {},
   "source": [
    "#### Creating csv file"
   ]
  },
  {
   "cell_type": "code",
   "execution_count": 16,
   "id": "768656d7",
   "metadata": {},
   "outputs": [],
   "source": [
    "op.to_csv('USI_AI Fluency Day_Team Alpha_vFinal.csv')"
   ]
  },
  {
   "cell_type": "markdown",
   "id": "44fc878b",
   "metadata": {},
   "source": [
    "### Assumption :  Header are manually added into the result outcome after converting to CSV"
   ]
  }
 ],
 "metadata": {
  "kernelspec": {
   "display_name": "Python 3 (ipykernel)",
   "language": "python",
   "name": "python3"
  },
  "language_info": {
   "codemirror_mode": {
    "name": "ipython",
    "version": 3
   },
   "file_extension": ".py",
   "mimetype": "text/x-python",
   "name": "python",
   "nbconvert_exporter": "python",
   "pygments_lexer": "ipython3",
   "version": "3.11.4"
  }
 },
 "nbformat": 4,
 "nbformat_minor": 5
}
